{
 "cells": [
  {
   "cell_type": "code",
   "execution_count": 5,
   "id": "0e23226c",
   "metadata": {},
   "outputs": [],
   "source": [
    "import time\n",
    "\n",
    "from selenium import webdriver\n",
    "from webdriver_manager.chrome import ChromeDriverManager\n",
    "from selenium.webdriver.common.action_chains import ActionChains\n",
    "from bs4 import BeautifulSoup\n",
    "import pandas as pd\n",
    "import numpy as np"
   ]
  },
  {
   "cell_type": "code",
   "execution_count": 6,
   "id": "57761dbc",
   "metadata": {},
   "outputs": [],
   "source": [
    "link='https://www.amazon.com/FIODIO-Mechanical-Anti-ghosting-Quick-Response-Multimedia/dp/B086168SJT/ref=sr_1_1_sspa?keywords=gaming+keyboard&pd_rd_r=3b560087-68ea-4a3c-b825-64c6c32761d3&pd_rd_w=0F671&pd_rd_wg=TfwNq&pf_rd_p=12129333-2117-4490-9c17-6d31baf0582a&pf_rd_r=AE6WFXNCHE9ZJDXKECFT&qid=1646681713&sr=8-1-spons&psc=1&spLa=ZW5jcnlwdGVkUXVhbGlmaWVyPUEzRlowV0lIRTJaSk9SJmVuY3J5cHRlZElkPUEwNzE3ODkzMldPNlYwNVRHRFVDRyZlbmNyeXB0ZWRBZElkPUEwMTgxMzI2WEhSTlhMS1lPRTlEJndpZGdldE5hbWU9c3BfYXRmJmFjdGlvbj1jbGlja1JlZGlyZWN0JmRvTm90TG9nQ2xpY2s9dHJ1ZQ=='\n"
   ]
  },
  {
   "cell_type": "code",
   "execution_count": 7,
   "id": "5d71d743",
   "metadata": {},
   "outputs": [],
   "source": [
    "def try_element(driver,element):\n",
    "     while(True):\n",
    "        try:\n",
    "            ActionChains(driver).move_to_element(element).click().perform()\n",
    "            break\n",
    "        except:\n",
    "            time.sleep(1)\n",
    "\n",
    "def list_str(lis):\n",
    "    q=[]\n",
    "    for i in range(len(lis)):\n",
    "        q.append(lis[i].text.strip())\n",
    "    return q"
   ]
  },
  {
   "cell_type": "code",
   "execution_count": null,
   "id": "9eac387e",
   "metadata": {},
   "outputs": [
    {
     "name": "stdout",
     "output_type": "stream",
     "text": [
      "\n"
     ]
    },
    {
     "name": "stderr",
     "output_type": "stream",
     "text": [
      "C:\\Users\\khaba\\AppData\\Local\\Temp\\ipykernel_10432\\2494104778.py:3: DeprecationWarning: executable_path has been deprecated, please pass in a Service object\n",
      "  driver = webdriver.Chrome(ChromeDriverManager().install())\n"
     ]
    },
    {
     "name": "stdout",
     "output_type": "stream",
     "text": [
      "10\n"
     ]
    }
   ],
   "source": [
    "numpage=5\n",
    "\n",
    "driver = webdriver.Chrome(ChromeDriverManager().install())\n",
    "driver.get(link)\n",
    "element=driver.find_element(\"xpath\",\"//a[@data-hook = 'see-all-reviews-link-foot']\")\n",
    "try_element(driver,element)\n",
    "page_reviews=[]\n",
    "i=0\n",
    "while i<numpage:\n",
    "    i=i+1\n",
    "    content = driver.page_source\n",
    "    soup = BeautifulSoup(content)\n",
    "    page_review=list_str(soup.find_all(attrs={\"data-hook\":\"review-body\"}))\n",
    "    page_reviews=page_reviews+page_review \n",
    "    print(len(page_reviews))\n",
    "    while(True):\n",
    "        try:\n",
    "            element=driver.find_element(\"xpath\",\"//*[text()='Next page']\")\n",
    "            break\n",
    "        except:\n",
    "            time.sleep(1)\n",
    "    try_element(driver,element)\n",
    "print(i)"
   ]
  },
  {
   "cell_type": "code",
   "execution_count": null,
   "id": "2a1c9442",
   "metadata": {},
   "outputs": [],
   "source": []
  }
 ],
 "metadata": {
  "kernelspec": {
   "display_name": "Python 3 (ipykernel)",
   "language": "python",
   "name": "python3"
  },
  "language_info": {
   "codemirror_mode": {
    "name": "ipython",
    "version": 3
   },
   "file_extension": ".py",
   "mimetype": "text/x-python",
   "name": "python",
   "nbconvert_exporter": "python",
   "pygments_lexer": "ipython3",
   "version": "3.10.5"
  }
 },
 "nbformat": 4,
 "nbformat_minor": 5
}
